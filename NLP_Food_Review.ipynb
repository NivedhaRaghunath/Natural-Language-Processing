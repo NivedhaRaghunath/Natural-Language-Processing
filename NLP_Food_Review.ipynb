{
 "cells": [
  {
   "cell_type": "code",
   "execution_count": 5,
   "id": "a4aa0c4d",
   "metadata": {
    "colab": {
     "base_uri": "https://localhost:8080/"
    },
    "executionInfo": {
     "elapsed": 2970,
     "status": "ok",
     "timestamp": 1695359267004,
     "user": {
      "displayName": "sam statistics",
      "userId": "15787176024529158926"
     },
     "user_tz": -330
    },
    "id": "a4aa0c4d",
    "outputId": "bd3833b1-d6f7-4b41-fb85-e570effc2005"
   },
   "outputs": [
    {
     "name": "stderr",
     "output_type": "stream",
     "text": [
      "[nltk_data] Downloading package stopwords to\n",
      "[nltk_data]     C:\\Users\\sunfa\\AppData\\Roaming\\nltk_data...\n",
      "[nltk_data]   Package stopwords is already up-to-date!\n"
     ]
    }
   ],
   "source": [
    "import pandas as pd\n",
    "import numpy as np\n",
    "import re\n",
    "from sklearn.feature_extraction.text import CountVectorizer\n",
    "from sklearn.metrics import classification_report\n",
    "from sklearn.model_selection import train_test_split\n",
    "import nltk\n",
    "nltk.download('stopwords')\n",
    "from nltk.corpus import stopwords\n",
    "from nltk.stem.porter import PorterStemmer\n"
   ]
  },
  {
   "cell_type": "markdown",
   "id": "ae24de95",
   "metadata": {
    "id": "ae24de95"
   },
   "source": [
    "# reading data"
   ]
  },
  {
   "cell_type": "code",
   "execution_count": 6,
   "id": "0543e13e",
   "metadata": {
    "colab": {
     "base_uri": "https://localhost:8080/",
     "height": 322
    },
    "executionInfo": {
     "elapsed": 5,
     "status": "error",
     "timestamp": 1695359267005,
     "user": {
      "displayName": "sam statistics",
      "userId": "15787176024529158926"
     },
     "user_tz": -330
    },
    "id": "0543e13e",
    "outputId": "9cc9ef85-3a9f-48a6-bdf7-c7b0ec06c653"
   },
   "outputs": [],
   "source": [
    "data=pd.read_csv(\"NLP-food-review.csv\")"
   ]
  },
  {
   "cell_type": "code",
   "execution_count": 7,
   "id": "c3874349",
   "metadata": {
    "id": "c3874349",
    "outputId": "62f3a172-d03c-41dd-e2a7-48327abe5cd7"
   },
   "outputs": [
    {
     "data": {
      "text/html": [
       "<div>\n",
       "<style scoped>\n",
       "    .dataframe tbody tr th:only-of-type {\n",
       "        vertical-align: middle;\n",
       "    }\n",
       "\n",
       "    .dataframe tbody tr th {\n",
       "        vertical-align: top;\n",
       "    }\n",
       "\n",
       "    .dataframe thead th {\n",
       "        text-align: right;\n",
       "    }\n",
       "</style>\n",
       "<table border=\"1\" class=\"dataframe\">\n",
       "  <thead>\n",
       "    <tr style=\"text-align: right;\">\n",
       "      <th></th>\n",
       "      <th>review</th>\n",
       "      <th>reaction</th>\n",
       "    </tr>\n",
       "  </thead>\n",
       "  <tbody>\n",
       "    <tr>\n",
       "      <th>0</th>\n",
       "      <td>Service is friendly and inviting.</td>\n",
       "      <td>1</td>\n",
       "    </tr>\n",
       "    <tr>\n",
       "      <th>1</th>\n",
       "      <td>Awesome service and food.</td>\n",
       "      <td>1</td>\n",
       "    </tr>\n",
       "    <tr>\n",
       "      <th>2</th>\n",
       "      <td>Waitress was a little slow in service.</td>\n",
       "      <td>0</td>\n",
       "    </tr>\n",
       "    <tr>\n",
       "      <th>3</th>\n",
       "      <td>Come hungry, leave happy and stuffed!</td>\n",
       "      <td>1</td>\n",
       "    </tr>\n",
       "    <tr>\n",
       "      <th>4</th>\n",
       "      <td>Horrible - don't waste your time and money.</td>\n",
       "      <td>0</td>\n",
       "    </tr>\n",
       "    <tr>\n",
       "      <th>...</th>\n",
       "      <td>...</td>\n",
       "      <td>...</td>\n",
       "    </tr>\n",
       "    <tr>\n",
       "      <th>995</th>\n",
       "      <td>This was my first time and I can't wait until ...</td>\n",
       "      <td>1</td>\n",
       "    </tr>\n",
       "    <tr>\n",
       "      <th>996</th>\n",
       "      <td>Great service and food.</td>\n",
       "      <td>1</td>\n",
       "    </tr>\n",
       "    <tr>\n",
       "      <th>997</th>\n",
       "      <td>I paid the bill but did not tip because I felt...</td>\n",
       "      <td>0</td>\n",
       "    </tr>\n",
       "    <tr>\n",
       "      <th>998</th>\n",
       "      <td>The one down note is the ventilation could use...</td>\n",
       "      <td>0</td>\n",
       "    </tr>\n",
       "    <tr>\n",
       "      <th>999</th>\n",
       "      <td>I really enjoyed eating here.</td>\n",
       "      <td>1</td>\n",
       "    </tr>\n",
       "  </tbody>\n",
       "</table>\n",
       "<p>1000 rows × 2 columns</p>\n",
       "</div>"
      ],
      "text/plain": [
       "                                                review  reaction\n",
       "0                    Service is friendly and inviting.         1\n",
       "1                            Awesome service and food.         1\n",
       "2               Waitress was a little slow in service.         0\n",
       "3                Come hungry, leave happy and stuffed!         1\n",
       "4          Horrible - don't waste your time and money.         0\n",
       "..                                                 ...       ...\n",
       "995  This was my first time and I can't wait until ...         1\n",
       "996                            Great service and food.         1\n",
       "997  I paid the bill but did not tip because I felt...         0\n",
       "998  The one down note is the ventilation could use...         0\n",
       "999                      I really enjoyed eating here.         1\n",
       "\n",
       "[1000 rows x 2 columns]"
      ]
     },
     "execution_count": 7,
     "metadata": {},
     "output_type": "execute_result"
    }
   ],
   "source": [
    "data"
   ]
  },
  {
   "cell_type": "code",
   "execution_count": 9,
   "id": "c542ac79",
   "metadata": {
    "id": "c542ac79"
   },
   "outputs": [
    {
     "data": {
      "text/plain": [
       "['i',\n",
       " 'me',\n",
       " 'my',\n",
       " 'myself',\n",
       " 'we',\n",
       " 'our',\n",
       " 'ours',\n",
       " 'ourselves',\n",
       " 'you',\n",
       " \"you're\",\n",
       " \"you've\",\n",
       " \"you'll\",\n",
       " \"you'd\",\n",
       " 'your',\n",
       " 'yours',\n",
       " 'yourself',\n",
       " 'yourselves',\n",
       " 'he',\n",
       " 'him',\n",
       " 'his',\n",
       " 'himself',\n",
       " 'she',\n",
       " \"she's\",\n",
       " 'her',\n",
       " 'hers',\n",
       " 'herself',\n",
       " 'it',\n",
       " \"it's\",\n",
       " 'its',\n",
       " 'itself',\n",
       " 'they',\n",
       " 'them',\n",
       " 'their',\n",
       " 'theirs',\n",
       " 'themselves',\n",
       " 'what',\n",
       " 'which',\n",
       " 'who',\n",
       " 'whom',\n",
       " 'this',\n",
       " 'that',\n",
       " \"that'll\",\n",
       " 'these',\n",
       " 'those',\n",
       " 'am',\n",
       " 'is',\n",
       " 'are',\n",
       " 'was',\n",
       " 'were',\n",
       " 'be',\n",
       " 'been',\n",
       " 'being',\n",
       " 'have',\n",
       " 'has',\n",
       " 'had',\n",
       " 'having',\n",
       " 'do',\n",
       " 'does',\n",
       " 'did',\n",
       " 'doing',\n",
       " 'a',\n",
       " 'an',\n",
       " 'the',\n",
       " 'and',\n",
       " 'but',\n",
       " 'if',\n",
       " 'or',\n",
       " 'because',\n",
       " 'as',\n",
       " 'until',\n",
       " 'while',\n",
       " 'of',\n",
       " 'at',\n",
       " 'by',\n",
       " 'for',\n",
       " 'with',\n",
       " 'about',\n",
       " 'against',\n",
       " 'between',\n",
       " 'into',\n",
       " 'through',\n",
       " 'during',\n",
       " 'before',\n",
       " 'after',\n",
       " 'above',\n",
       " 'below',\n",
       " 'to',\n",
       " 'from',\n",
       " 'up',\n",
       " 'down',\n",
       " 'in',\n",
       " 'out',\n",
       " 'on',\n",
       " 'off',\n",
       " 'over',\n",
       " 'under',\n",
       " 'again',\n",
       " 'further',\n",
       " 'then',\n",
       " 'once',\n",
       " 'here',\n",
       " 'there',\n",
       " 'when',\n",
       " 'where',\n",
       " 'why',\n",
       " 'how',\n",
       " 'all',\n",
       " 'any',\n",
       " 'both',\n",
       " 'each',\n",
       " 'few',\n",
       " 'more',\n",
       " 'most',\n",
       " 'other',\n",
       " 'some',\n",
       " 'such',\n",
       " 'no',\n",
       " 'nor',\n",
       " 'not',\n",
       " 'only',\n",
       " 'own',\n",
       " 'same',\n",
       " 'so',\n",
       " 'than',\n",
       " 'too',\n",
       " 'very',\n",
       " 's',\n",
       " 't',\n",
       " 'can',\n",
       " 'will',\n",
       " 'just',\n",
       " 'don',\n",
       " \"don't\",\n",
       " 'should',\n",
       " \"should've\",\n",
       " 'now',\n",
       " 'd',\n",
       " 'll',\n",
       " 'm',\n",
       " 'o',\n",
       " 're',\n",
       " 've',\n",
       " 'y',\n",
       " 'ain',\n",
       " 'aren',\n",
       " \"aren't\",\n",
       " 'couldn',\n",
       " \"couldn't\",\n",
       " 'didn',\n",
       " \"didn't\",\n",
       " 'doesn',\n",
       " \"doesn't\",\n",
       " 'hadn',\n",
       " \"hadn't\",\n",
       " 'hasn',\n",
       " \"hasn't\",\n",
       " 'haven',\n",
       " \"haven't\",\n",
       " 'isn',\n",
       " \"isn't\",\n",
       " 'ma',\n",
       " 'mightn',\n",
       " \"mightn't\",\n",
       " 'mustn',\n",
       " \"mustn't\",\n",
       " 'needn',\n",
       " \"needn't\",\n",
       " 'shan',\n",
       " \"shan't\",\n",
       " 'shouldn',\n",
       " \"shouldn't\",\n",
       " 'wasn',\n",
       " \"wasn't\",\n",
       " 'weren',\n",
       " \"weren't\",\n",
       " 'won',\n",
       " \"won't\",\n",
       " 'wouldn',\n",
       " \"wouldn't\"]"
      ]
     },
     "execution_count": 9,
     "metadata": {},
     "output_type": "execute_result"
    }
   ],
   "source": [
    "stopwords.words(\"English\")"
   ]
  },
  {
   "cell_type": "code",
   "execution_count": null,
   "id": "c9bd83d3",
   "metadata": {
    "id": "c9bd83d3",
    "outputId": "8e3afa06-f59b-41b0-9eaf-ade0e9d6e927"
   },
   "outputs": [
    {
     "data": {
      "text/plain": [
       "['i', 'am', 'happy']"
      ]
     },
     "execution_count": 13,
     "metadata": {},
     "output_type": "execute_result"
    }
   ],
   "source": [
    "\"i am happy\".split()"
   ]
  },
  {
   "cell_type": "code",
   "execution_count": null,
   "id": "0d800558",
   "metadata": {
    "id": "0d800558",
    "outputId": "7e1ac93c-edd2-4a02-93c3-c7aa1a8b2732"
   },
   "outputs": [
    {
     "data": {
      "text/plain": [
       "'i hate you'"
      ]
     },
     "execution_count": 112,
     "metadata": {},
     "output_type": "execute_result"
    }
   ],
   "source": [
    "\" \".join([\"i\",\"hate\",\"you\"])"
   ]
  },
  {
   "cell_type": "code",
   "execution_count": null,
   "id": "44eb9f69",
   "metadata": {
    "id": "44eb9f69"
   },
   "outputs": [],
   "source": [
    "stemmer=PorterStemmer()"
   ]
  },
  {
   "cell_type": "code",
   "execution_count": null,
   "id": "e61193e4",
   "metadata": {
    "id": "e61193e4",
    "outputId": "89517227-3aa2-4a06-ccfb-3230c4ab5d57"
   },
   "outputs": [
    {
     "data": {
      "text/plain": [
       "'servic'"
      ]
     },
     "execution_count": 14,
     "metadata": {},
     "output_type": "execute_result"
    }
   ],
   "source": [
    "stemmer.stem(\"service\")"
   ]
  },
  {
   "cell_type": "code",
   "execution_count": null,
   "id": "c131ff57",
   "metadata": {
    "id": "c131ff57"
   },
   "outputs": [],
   "source": [
    "def preprocessing(text):\n",
    "\n",
    "    text=text.lower()\n",
    "    text=re.sub('[^a-z:) ]' ,'',text)\n",
    "    text=text.split()\n",
    "    text=[stemmer.stem(word) for word in text if word not in stopwords.words(\"english\") ]\n",
    "    text=\" \".join(text)\n",
    "    return text"
   ]
  },
  {
   "cell_type": "code",
   "execution_count": null,
   "id": "1ee06828",
   "metadata": {
    "id": "1ee06828",
    "outputId": "4bda1117-4992-47bb-c75a-d208dda25afd"
   },
   "outputs": [
    {
     "data": {
      "text/plain": [
       "'love pizza'"
      ]
     },
     "execution_count": 18,
     "metadata": {},
     "output_type": "execute_result"
    }
   ],
   "source": [
    "preprocessing(\" i loved the pizza 3000\")"
   ]
  },
  {
   "cell_type": "code",
   "execution_count": null,
   "id": "3a7b193d",
   "metadata": {
    "id": "3a7b193d"
   },
   "outputs": [],
   "source": [
    "data[\"review\"]=data[\"review\"].apply(preprocessing)"
   ]
  },
  {
   "cell_type": "code",
   "execution_count": null,
   "id": "68a66ec8",
   "metadata": {
    "id": "68a66ec8",
    "outputId": "e2c6faf7-47c9-48e3-d5a4-e826dc2dc4b5"
   },
   "outputs": [
    {
     "data": {
      "text/html": [
       "<div>\n",
       "<style scoped>\n",
       "    .dataframe tbody tr th:only-of-type {\n",
       "        vertical-align: middle;\n",
       "    }\n",
       "\n",
       "    .dataframe tbody tr th {\n",
       "        vertical-align: top;\n",
       "    }\n",
       "\n",
       "    .dataframe thead th {\n",
       "        text-align: right;\n",
       "    }\n",
       "</style>\n",
       "<table border=\"1\" class=\"dataframe\">\n",
       "  <thead>\n",
       "    <tr style=\"text-align: right;\">\n",
       "      <th></th>\n",
       "      <th>review</th>\n",
       "      <th>reaction</th>\n",
       "    </tr>\n",
       "  </thead>\n",
       "  <tbody>\n",
       "    <tr>\n",
       "      <th>0</th>\n",
       "      <td>servic friendli invit</td>\n",
       "      <td>1</td>\n",
       "    </tr>\n",
       "    <tr>\n",
       "      <th>1</th>\n",
       "      <td>awesom servic food</td>\n",
       "      <td>1</td>\n",
       "    </tr>\n",
       "    <tr>\n",
       "      <th>2</th>\n",
       "      <td>waitress littl slow servic</td>\n",
       "      <td>0</td>\n",
       "    </tr>\n",
       "    <tr>\n",
       "      <th>3</th>\n",
       "      <td>come hungri leav happi stuf</td>\n",
       "      <td>1</td>\n",
       "    </tr>\n",
       "    <tr>\n",
       "      <th>4</th>\n",
       "      <td>horribl dont wast time money</td>\n",
       "      <td>0</td>\n",
       "    </tr>\n",
       "    <tr>\n",
       "      <th>...</th>\n",
       "      <td>...</td>\n",
       "      <td>...</td>\n",
       "    </tr>\n",
       "    <tr>\n",
       "      <th>995</th>\n",
       "      <td>first time cant wait next</td>\n",
       "      <td>1</td>\n",
       "    </tr>\n",
       "    <tr>\n",
       "      <th>996</th>\n",
       "      <td>great servic food</td>\n",
       "      <td>1</td>\n",
       "    </tr>\n",
       "    <tr>\n",
       "      <th>997</th>\n",
       "      <td>paid bill tip felt server terribl job</td>\n",
       "      <td>0</td>\n",
       "    </tr>\n",
       "    <tr>\n",
       "      <th>998</th>\n",
       "      <td>one note ventil could use upgrad</td>\n",
       "      <td>0</td>\n",
       "    </tr>\n",
       "    <tr>\n",
       "      <th>999</th>\n",
       "      <td>realli enjoy eat</td>\n",
       "      <td>1</td>\n",
       "    </tr>\n",
       "  </tbody>\n",
       "</table>\n",
       "<p>1000 rows × 2 columns</p>\n",
       "</div>"
      ],
      "text/plain": [
       "                                    review  reaction\n",
       "0                    servic friendli invit         1\n",
       "1                       awesom servic food         1\n",
       "2               waitress littl slow servic         0\n",
       "3              come hungri leav happi stuf         1\n",
       "4             horribl dont wast time money         0\n",
       "..                                     ...       ...\n",
       "995              first time cant wait next         1\n",
       "996                      great servic food         1\n",
       "997  paid bill tip felt server terribl job         0\n",
       "998       one note ventil could use upgrad         0\n",
       "999                       realli enjoy eat         1\n",
       "\n",
       "[1000 rows x 2 columns]"
      ]
     },
     "execution_count": 21,
     "metadata": {},
     "output_type": "execute_result"
    }
   ],
   "source": [
    "data"
   ]
  },
  {
   "cell_type": "markdown",
   "id": "976a20ad",
   "metadata": {
    "id": "976a20ad"
   },
   "source": [
    "# train and test split"
   ]
  },
  {
   "cell_type": "code",
   "execution_count": null,
   "id": "b4fc5332",
   "metadata": {
    "id": "b4fc5332"
   },
   "outputs": [],
   "source": [
    "x_train, x_test,y_train,y_test=train_test_split(data[\"review\"],data[\"reaction\"],test_size=0.20,random_state=20)"
   ]
  },
  {
   "cell_type": "markdown",
   "id": "563d5635",
   "metadata": {
    "id": "563d5635"
   },
   "source": [
    "# Countvectorizer"
   ]
  },
  {
   "cell_type": "code",
   "execution_count": null,
   "id": "db2c45be",
   "metadata": {
    "id": "db2c45be"
   },
   "outputs": [],
   "source": [
    "#train\n",
    "# se1::\"I love the movie\"\n",
    "# se2::\"I hate the movie\"\n",
    "# se3::\"vijay was very good in the movie\"\n",
    "\n",
    "\n",
    "#        I  love  the  movie  hate  vijay  was  very  good  in\n",
    "# se1:   1.   1.   1.    1.    0.    0.     0.   0.    0.    0\n",
    "# se2:   1.   0.   1.    1.    1.    0.     0    0.    0.    0\n",
    "# se3:   0    0    1     1     0     1      1    1     1     1\n",
    "#        0    0    0.    1.    0.    0.     0.   0     1.    0\n",
    "\n",
    "#test\n",
    "\n",
    "# movie is good and nice"
   ]
  },
  {
   "cell_type": "code",
   "execution_count": null,
   "id": "2f75b3bd",
   "metadata": {
    "id": "2f75b3bd"
   },
   "outputs": [],
   "source": [
    "c=CountVectorizer()\n",
    "\n",
    "x_train=c.fit_transform(x_train).toarray()\n",
    "x_test=c.transform(x_test).toarray()"
   ]
  },
  {
   "cell_type": "code",
   "execution_count": null,
   "id": "9763ab36",
   "metadata": {
    "id": "9763ab36",
    "outputId": "e7b4448c-f50f-43b4-ef60-19498758b3ad"
   },
   "outputs": [
    {
     "data": {
      "text/plain": [
       "array([[0, 0, 0, ..., 0, 0, 0],\n",
       "       [0, 0, 0, ..., 0, 0, 0],\n",
       "       [0, 0, 0, ..., 0, 0, 0],\n",
       "       ...,\n",
       "       [0, 0, 0, ..., 0, 0, 0],\n",
       "       [0, 0, 0, ..., 0, 0, 0],\n",
       "       [0, 0, 0, ..., 0, 0, 0]])"
      ]
     },
     "execution_count": 24,
     "metadata": {},
     "output_type": "execute_result"
    }
   ],
   "source": [
    "x_train\n"
   ]
  },
  {
   "cell_type": "code",
   "execution_count": null,
   "id": "77ea8ef1",
   "metadata": {},
   "outputs": [],
   "source": [
    "pd.Dataframe(x_train,columns =c.get_feature_names_out() )"
   ]
  },
  {
   "cell_type": "markdown",
   "id": "e3a64952",
   "metadata": {
    "id": "e3a64952"
   },
   "source": [
    "# model"
   ]
  },
  {
   "cell_type": "code",
   "execution_count": null,
   "id": "c602e357",
   "metadata": {
    "id": "c602e357"
   },
   "outputs": [],
   "source": [
    "from sklearn.linear_model import LogisticRegression\n",
    "from sklearn.tree import DecisionTreeClassifier"
   ]
  },
  {
   "cell_type": "code",
   "execution_count": null,
   "id": "36e4c683",
   "metadata": {
    "id": "36e4c683",
    "outputId": "9c23e713-9ee4-4082-b762-fddf19459aa1"
   },
   "outputs": [
    {
     "name": "stdout",
     "output_type": "stream",
     "text": [
      "DecisionTreeClassifier()\n",
      "              precision    recall  f1-score   support\n",
      "\n",
      "           0       0.68      0.75      0.71        96\n",
      "           1       0.74      0.67      0.71       104\n",
      "\n",
      "    accuracy                           0.71       200\n",
      "   macro avg       0.71      0.71      0.71       200\n",
      "weighted avg       0.71      0.71      0.71       200\n",
      "\n",
      "==================================================\n",
      "LogisticRegression()\n",
      "              precision    recall  f1-score   support\n",
      "\n",
      "           0       0.77      0.83      0.80        96\n",
      "           1       0.83      0.77      0.80       104\n",
      "\n",
      "    accuracy                           0.80       200\n",
      "   macro avg       0.80      0.80      0.80       200\n",
      "weighted avg       0.80      0.80      0.80       200\n",
      "\n",
      "==================================================\n"
     ]
    }
   ],
   "source": [
    "models=[DecisionTreeClassifier(),LogisticRegression()]\n",
    "\n",
    "for model in models:\n",
    "\n",
    "    model.fit(x_train,y_train)\n",
    "    pred=model.predict(x_test)\n",
    "    print(str(model))\n",
    "    print(classification_report(y_test,pred))\n",
    "    print(\"=\"*50)"
   ]
  },
  {
   "cell_type": "markdown",
   "id": "61b4aca8",
   "metadata": {
    "id": "61b4aca8"
   },
   "source": [
    "# inference"
   ]
  },
  {
   "cell_type": "code",
   "execution_count": null,
   "id": "95a00f58",
   "metadata": {
    "id": "95a00f58"
   },
   "outputs": [],
   "source": [
    "text=\"i love to eat that food\"\n",
    "\n",
    "text=preprocessing(text)\n",
    "vector=c.transform({text}).toarray()"
   ]
  },
  {
   "cell_type": "code",
   "execution_count": null,
   "id": "7f41a3dd",
   "metadata": {
    "id": "7f41a3dd",
    "outputId": "97cc28f0-5b82-41de-afe8-2339ee94fba3"
   },
   "outputs": [
    {
     "data": {
      "text/plain": [
       "array([1])"
      ]
     },
     "execution_count": 136,
     "metadata": {},
     "output_type": "execute_result"
    }
   ],
   "source": [
    "model.predict(vector)"
   ]
  }
 ],
 "metadata": {
  "colab": {
   "provenance": []
  },
  "kernelspec": {
   "display_name": "Python 3 (ipykernel)",
   "language": "python",
   "name": "python3"
  },
  "language_info": {
   "codemirror_mode": {
    "name": "ipython",
    "version": 3
   },
   "file_extension": ".py",
   "mimetype": "text/x-python",
   "name": "python",
   "nbconvert_exporter": "python",
   "pygments_lexer": "ipython3",
   "version": "3.11.3"
  }
 },
 "nbformat": 4,
 "nbformat_minor": 5
}
